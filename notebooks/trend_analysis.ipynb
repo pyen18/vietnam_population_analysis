{
 "cells": [
  {
   "cell_type": "code",
   "execution_count": 1,
   "metadata": {},
   "outputs": [
    {
     "name": "stdout",
     "output_type": "stream",
     "text": [
      "Lỗi trong quá trình phân tích xu hướng: [Errno 2] No such file or directory: 'data/cleaned/cleaned_population.csv'\n"
     ]
    }
   ],
   "source": [
    "# scripts/analyze_trends.py\n",
    "import pandas as pd\n",
    "import matplotlib.pyplot as plt\n",
    "import os\n",
    "\n",
    "def analyze_trends(input_path, output_path):\n",
    "    \"\"\"\n",
    "    Phân tích xu hướng dân số qua các năm.\n",
    "    \n",
    "    Args:\n",
    "        input_path (str): Đường dẫn dữ liệu đã lọc.\n",
    "        output_path (str): Đường dẫn lưu biểu đồ xu hướng.\n",
    "    \"\"\"\n",
    "    try:\n",
    "        data = pd.read_csv(input_path, encoding='utf-8')\n",
    "        print(\"Đọc dữ liệu thành công cho phân tích xu hướng.\")\n",
    "\n",
    "        # Tổng dân số theo năm\n",
    "        trend_data = data.groupby('year')['population'].sum().reset_index()\n",
    "\n",
    "        # Vẽ biểu đồ xu hướng\n",
    "        plt.figure(figsize=(10,6))\n",
    "        plt.plot(trend_data['year'], trend_data['population'], marker='o', linestyle='-')\n",
    "        plt.title(\"Xu hướng Dân số Việt Nam (2011-2016)\")\n",
    "        plt.xlabel(\"Năm\")\n",
    "        plt.ylabel(\"Tổng Dân số\")\n",
    "        plt.grid(True)\n",
    "        plt.tight_layout()\n",
    "\n",
    "        # Lưu biểu đồ\n",
    "        os.makedirs(os.path.dirname(output_path), exist_ok=True)\n",
    "        plt.savefig(output_path)\n",
    "        plt.close()\n",
    "        print(f\"Biểu đồ xu hướng đã được lưu tại: {output_path}\")\n",
    "\n",
    "    except Exception as e:\n",
    "        print(f\"Lỗi trong quá trình phân tích xu hướng: {e}\")\n",
    "\n",
    "if __name__ == \"__main__\":\n",
    "    input_csv = \"data/cleaned/cleaned_population.csv\"\n",
    "    output_chart = \"outputs/visualizations/trend_population.png\"\n",
    "    analyze_trends(input_csv, output_chart)\n"
   ]
  }
 ],
 "metadata": {
  "kernelspec": {
   "display_name": "Python 3",
   "language": "python",
   "name": "python3"
  },
  "language_info": {
   "codemirror_mode": {
    "name": "ipython",
    "version": 3
   },
   "file_extension": ".py",
   "mimetype": "text/x-python",
   "name": "python",
   "nbconvert_exporter": "python",
   "pygments_lexer": "ipython3",
   "version": "3.13.0"
  }
 },
 "nbformat": 4,
 "nbformat_minor": 2
}
